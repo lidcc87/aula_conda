{
 "cells": [
  {
   "cell_type": "markdown",
   "metadata": {
    "slideshow": {
     "slide_type": "slide"
    }
   },
   "source": [
    "# TOP Ten\n",
    "### _slide_"
   ]
  },
  {
   "cell_type": "code",
   "execution_count": null,
   "metadata": {},
   "outputs": [],
   "source": [
    "## 1.Gosset\n",
    "![top1](https://en.wikipedia.org/wiki/Student%27s_t-test#/media/File:William_Sealy_Gosset.jpg)"
   ]
  },
  {
   "cell_type": "code",
   "execution_count": null,
   "metadata": {
    "slideshow": {
     "slide_type": "slide"
    }
   },
   "outputs": [],
   "source": [
    "## 2. Karl Pearson\n",
    "![top2](https://community.jmp.com/legacyfs/online/wp_images/2013/12/Karl_Pearson.jpg)"
   ]
  },
  {
   "cell_type": "code",
   "execution_count": null,
   "metadata": {
    "slideshow": {
     "slide_type": "slide"
    }
   },
   "outputs": [],
   "source": [
    "## 3. Kolmogorov\n",
    "![top3](https://en.wikipedia.org/wiki/Andrey_Kolmogorov#/media/File:Andrej_Nikolajewitsch_Kolmogorov.jpg)"
   ]
  },
  {
   "cell_type": "code",
   "execution_count": null,
   "metadata": {
    "slideshow": {
     "slide_type": "slide"
    }
   },
   "outputs": [],
   "source": [
    "## 4. Ronald Fisher\n",
    "![top4](http://www.economics.soton.ac.uk/staff/aldrich/fisherguide/Doc1_files/image001.gif)"
   ]
  },
  {
   "cell_type": "code",
   "execution_count": null,
   "metadata": {
    "slideshow": {
     "slide_type": "slide"
    }
   },
   "outputs": [],
   "source": [
    "## 5. Ronald Fisher\n",
    "![top5](https://upload.wikimedia.org/wikipedia/commons/a/aa/Youngronaldfisher2.JPG)"
   ]
  },
  {
   "cell_type": "code",
   "execution_count": null,
   "metadata": {
    "slideshow": {
     "slide_type": "slide"
    }
   },
   "outputs": [],
   "source": [
    "## 6. John Tukey\n",
    "![top6](https://4.bp.blogspot.com/-xQeLPMNIgb0/Vx2BosCEAPI/AAAAAAAAACQ/4rQSLFg8aucgvSP7zckGHnhBMpYpF9GNACLcB/s1600/John%2BTukey.jpg)"
   ]
  },
  {
   "cell_type": "code",
   "execution_count": null,
   "metadata": {
    "slideshow": {
     "slide_type": "slide"
    }
   },
   "outputs": [],
   "source": [
    "## 7. David Salsburg\n",
    "![top7](https://www.pfizerplus.com/images/David-Salsburg-Astat.jpg)"
   ]
  },
  {
   "cell_type": "code",
   "execution_count": null,
   "metadata": {
    "slideshow": {
     "slide_type": "slide"
    }
   },
   "outputs": [],
   "source": [
    "## 8. Trevor Hastie\n",
    "![top8](https://web.stanford.edu/~hastie/img/snake_garden.jpg)"
   ]
  },
  {
   "cell_type": "code",
   "execution_count": null,
   "metadata": {
    "slideshow": {
     "slide_type": "slide"
    }
   },
   "outputs": [],
   "source": [
    "## 9. Linus Torvalds\n",
    "![top9](https://en.wikipedia.org/wiki/Linus_Torvalds#/media/File:LinuxCon_Europe_Linus_Torvalds_03_(cropped).jpg)"
   ]
  },
  {
   "cell_type": "code",
   "execution_count": null,
   "metadata": {
    "slideshow": {
     "slide_type": "slide"
    }
   },
   "outputs": [],
   "source": [
    "## 10. Guido von Russem\n",
    "![top10](https://en.wikipedia.org/wiki/Guido_van_Rossum#/media/File:Guido-portrait-2014-curvves.jpg)"
   ]
  },
  {
   "cell_type": "code",
   "execution_count": 6,
   "metadata": {
    "scrolled": true,
    "slideshow": {
     "slide_type": "slide"
    }
   },
   "outputs": [
    {
     "name": "stdout",
     "output_type": "stream",
     "text": [
      "/bin/sh: 1: Syntax error: word unexpected (expecting \")\")\r\n"
     ]
    }
   ],
   "source": [
    "## Links das Imagens\n",
    "## 1.Gosset\n",
    "![top1](https://en.wikipedia.org/wiki/Student%27s_t-test#/media/File:William_Sealy_Gosset.jpg)\n",
    "## 2. Karl Pearson\n",
    "![top2](https://community.jmp.com/legacyfs/online/wp_images/2013/12/Karl_Pearson.jpg)\n",
    "## 3. Kolmogorov\n",
    "![top3](https://en.wikipedia.org/wiki/Andrey_Kolmogorov#/media/File:Andrej_Nikolajewitsch_Kolmogorov.jpg)\n",
    "## 4. Ronald Fisher\n",
    "![top4](http://www.economics.soton.ac.uk/staff/aldrich/fisherguide/Doc1_files/image001.gif)\n",
    "## 5. Ronald Fisher\n",
    "![top5](https://upload.wikimedia.org/wikipedia/commons/a/aa/Youngronaldfisher2.JPG)\n",
    "## 6. John Tukey\n",
    "![top6](https://4.bp.blogspot.com/-xQeLPMNIgb0/Vx2BosCEAPI/AAAAAAAAACQ/4rQSLFg8aucgvSP7zckGHnhBMpYpF9GNACLcB/s1600/John%2BTukey.jpg)\n",
    "## 7. David Salsburg\n",
    "![top7](https://www.pfizerplus.com/images/David-Salsburg-Astat.jpg)\n",
    "## 8. Trevor Hastie\n",
    "![top8](https://web.stanford.edu/~hastie/img/snake_garden.jpg)\n",
    "## 9. Linus Torvalds\n",
    "![top9](https://en.wikipedia.org/wiki/Linus_Torvalds#/media/File:LinuxCon_Europe_Linus_Torvalds_03_(cropped).jpg)\n",
    "## 10. Guido von Russem\n",
    "![top10](https://en.wikipedia.org/wiki/Guido_van_Rossum#/media/File:Guido-portrait-2014-curvves.jpg)"
   ]
  }
 ],
 "metadata": {
  "celltoolbar": "Slideshow",
  "kernelspec": {
   "display_name": "Python 3",
   "language": "python",
   "name": "python3"
  },
  "language_info": {
   "codemirror_mode": {
    "name": "ipython",
    "version": 3
   },
   "file_extension": ".py",
   "mimetype": "text/x-python",
   "name": "python",
   "nbconvert_exporter": "python",
   "pygments_lexer": "ipython3",
   "version": "3.7.4"
  }
 },
 "nbformat": 4,
 "nbformat_minor": 2
}
