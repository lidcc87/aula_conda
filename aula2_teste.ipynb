{
 "cells": [
  {
   "cell_type": "markdown",
   "metadata": {
    "slideshow": {
     "slide_type": "slide"
    }
   },
   "source": [
    "# TOP10 Perolas by Dilma Rousseff\n",
    "\n",
    "## #deixeaMetaAberta"
   ]
  },
  {
   "cell_type": "markdown",
   "metadata": {
    "slideshow": {
     "slide_type": "slide"
    }
   },
   "source": [
    "![Dilma CAPA](https://images-na.ssl-images-amazon.com/images/I/41pjFXqMjdL.jpg)"
   ]
  },
  {
   "cell_type": "markdown",
   "metadata": {
    "slideshow": {
     "slide_type": "slide"
    }
   },
   "source": [
    "## 1\n",
    "![Dilma RS](http://defendaseudinheiro.com.br/wp-content/uploads/2015/10/perolas-da-presidenta-dilma.jpg)"
   ]
  },
  {
   "cell_type": "markdown",
   "metadata": {
    "slideshow": {
     "slide_type": "slide"
    }
   },
   "source": [
    "## 2\n",
    "![Dilma Lua x Sol](https://piaui.folha.uol.com.br/lupa/wp-content/uploads/2019/03/Dilma1-post.png)"
   ]
  },
  {
   "cell_type": "markdown",
   "metadata": {
    "slideshow": {
     "slide_type": "slide"
    }
   },
   "source": [
    "## 3\n",
    "![Dilma Quer Dizer](https://i.ytimg.com/vi/ggugJaHQAzs/maxresdefault.jpg)\n"
   ]
  },
  {
   "cell_type": "markdown",
   "metadata": {
    "slideshow": {
     "slide_type": "slide"
    }
   },
   "source": [
    "##4\n",
    "![Dilma Neymar e Ganso](https://cdn.pensador.com/img/frase/di/lm/dilma_rousseff_eu_vi_voce_veja_eu_ja_vi_parei_de_ver_vo_l5lyn3q.jpg)"
   ]
  },
  {
   "cell_type": "markdown",
   "metadata": {
    "slideshow": {
     "slide_type": "slide"
    }
   },
   "source": [
    "## 5\n",
    "![Dilma Meta Aberta](https://www.bahianoticias.com.br/fotos/justica_noticias/55800/IMAGEM_NOTICIA_5.jpg)"
   ]
  },
  {
   "cell_type": "markdown",
   "metadata": {
    "slideshow": {
     "slide_type": "slide"
    }
   },
   "source": [
    "## 6\n",
    "![Dilma Transporte Aeroporto](http://cdn.atl.clicrbs.com.br/wp-content/uploads/sites/23/2015/08/dilma-frases-engra%C3%A7adas-7.jpg)"
   ]
  },
  {
   "cell_type": "markdown",
   "metadata": {
    "slideshow": {
     "slide_type": "slide"
    }
   },
   "source": [
    "## 7\n",
    "![Dilma Jogos Olimpicos](http://cdn.atl.clicrbs.com.br/wp-content/uploads/sites/23/2015/08/dilma-frases-engra%C3%A7adas-10.jpg)"
   ]
  },
  {
   "cell_type": "markdown",
   "metadata": {
    "slideshow": {
     "slide_type": "slide"
    }
   },
   "source": [
    "## 8 \n",
    "![Dilma Vai todo mundo perder](https://cdn.pensador.com/img/frase/di/lm/dilma_rousseff_nao_acho_que_quem_ganhar_ou_quem_perder_lqlgvpd.jpg)"
   ]
  },
  {
   "cell_type": "markdown",
   "metadata": {
    "slideshow": {
     "slide_type": "slide"
    }
   },
   "source": [
    "## 9\n",
    "![Dilma Vlw Flws](https://pbs.twimg.com/media/B2XbsJKIQAEPSS9.png)"
   ]
  },
  {
   "cell_type": "code",
   "execution_count": null,
   "metadata": {},
   "outputs": [],
   "source": []
  }
 ],
 "metadata": {
  "celltoolbar": "Slideshow",
  "kernelspec": {
   "display_name": "Python [conda env:aula2] *",
   "language": "python",
   "name": "conda-env-aula2-py"
  },
  "language_info": {
   "codemirror_mode": {
    "name": "ipython",
    "version": 3
   },
   "file_extension": ".py",
   "mimetype": "text/x-python",
   "name": "python",
   "nbconvert_exporter": "python",
   "pygments_lexer": "ipython3",
   "version": "3.7.4"
  }
 },
 "nbformat": 4,
 "nbformat_minor": 2
}
